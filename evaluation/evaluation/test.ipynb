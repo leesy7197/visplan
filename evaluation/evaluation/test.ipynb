{
 "cells": [
  {
   "cell_type": "code",
   "execution_count": 88,
   "metadata": {},
   "outputs": [],
   "source": [
    "import base64\n",
    "import json\n",
    "import logging\n",
    "import os\n",
    "import re\n",
    "import shutil\n",
    "import glob\n",
    "import sys\n",
    "import matplotlib as plt\n",
    "import io\n",
    "import pandas as pd\n",
    "\n",
    "sys.path.insert(0, sys.path[0]+\"/../\")\n",
    "## Baseline ##\n",
    "\n",
    "##############\n",
    "from openai import OpenAI\n",
    "from config.openai import API_KEY, BASE_URL, temperature"
   ]
  },
  {
   "cell_type": "code",
   "execution_count": 89,
   "metadata": {},
   "outputs": [
    {
     "name": "stdout",
     "output_type": "stream",
     "text": [
      "[\"['Give me a group line chart showing the number of days with max humidity higher than 80 in different area each year.']\"]\n"
     ]
    },
    {
     "data": {
      "text/html": [
       "<div>\n",
       "<style scoped>\n",
       "    .dataframe tbody tr th:only-of-type {\n",
       "        vertical-align: middle;\n",
       "    }\n",
       "\n",
       "    .dataframe tbody tr th {\n",
       "        vertical-align: top;\n",
       "    }\n",
       "\n",
       "    .dataframe thead th {\n",
       "        text-align: right;\n",
       "    }\n",
       "</style>\n",
       "<table border=\"1\" class=\"dataframe\">\n",
       "  <thead>\n",
       "    <tr style=\"text-align: right;\">\n",
       "      <th></th>\n",
       "      <th>id</th>\n",
       "      <th>vis_query_vis_part</th>\n",
       "      <th>vis_query_data_part</th>\n",
       "      <th>vis_query_VQL</th>\n",
       "      <th>chart</th>\n",
       "      <th>hardness</th>\n",
       "      <th>db_id</th>\n",
       "      <th>vis_obj_chart</th>\n",
       "      <th>vis_obj_x_name</th>\n",
       "      <th>vis_obj_y_name</th>\n",
       "      <th>vis_obj_x_data</th>\n",
       "      <th>vis_obj_y_data</th>\n",
       "      <th>vis_obj_classify</th>\n",
       "      <th>vis_obj_describe</th>\n",
       "      <th>vis_obj_sort</th>\n",
       "      <th>nl_queries</th>\n",
       "      <th>irrelevant_tables</th>\n",
       "      <th>query_meta</th>\n",
       "      <th>img_bs64</th>\n",
       "    </tr>\n",
       "  </thead>\n",
       "  <tbody>\n",
       "    <tr>\n",
       "      <th>163</th>\n",
       "      <td>778</td>\n",
       "      <td>Visualize LINE</td>\n",
       "      <td>{'sql_part': 'SELECT date , COUNT(date), zip_c...</td>\n",
       "      <td>SELECT date , COUNT(date), zip_code FROM weath...</td>\n",
       "      <td>Grouping Line</td>\n",
       "      <td>Hard</td>\n",
       "      <td>bike_1</td>\n",
       "      <td>line</td>\n",
       "      <td>date</td>\n",
       "      <td>COUNT(date)</td>\n",
       "      <td>[[2013, 2014, 2015]]</td>\n",
       "      <td>[[65, 259, 182], [102, 310, 207], [76, 285, 21...</td>\n",
       "      <td>['94041', '94063', '94107', '94301', '95113']</td>\n",
       "      <td>GROUP BY Location_Code, GROUP BY Date_in_Locat...</td>\n",
       "      <td>NaN</td>\n",
       "      <td>['Give me a group line chart showing the numbe...</td>\n",
       "      <td>['trip', 'status']</td>\n",
       "      <td>[{'channel_specified': ['x', 'y', 'classify']}]</td>\n",
       "      <td>iVBORw0KGgoAAAANSUhEUgAAAmIAAAJCCAYAAABj+qvQAA...</td>\n",
       "    </tr>\n",
       "  </tbody>\n",
       "</table>\n",
       "</div>"
      ],
      "text/plain": [
       "      id vis_query_vis_part  \\\n",
       "163  778     Visualize LINE   \n",
       "\n",
       "                                   vis_query_data_part  \\\n",
       "163  {'sql_part': 'SELECT date , COUNT(date), zip_c...   \n",
       "\n",
       "                                         vis_query_VQL          chart  \\\n",
       "163  SELECT date , COUNT(date), zip_code FROM weath...  Grouping Line   \n",
       "\n",
       "    hardness   db_id vis_obj_chart vis_obj_x_name vis_obj_y_name  \\\n",
       "163     Hard  bike_1          line           date    COUNT(date)   \n",
       "\n",
       "           vis_obj_x_data                                     vis_obj_y_data  \\\n",
       "163  [[2013, 2014, 2015]]  [[65, 259, 182], [102, 310, 207], [76, 285, 21...   \n",
       "\n",
       "                                  vis_obj_classify  \\\n",
       "163  ['94041', '94063', '94107', '94301', '95113']   \n",
       "\n",
       "                                      vis_obj_describe vis_obj_sort  \\\n",
       "163  GROUP BY Location_Code, GROUP BY Date_in_Locat...          NaN   \n",
       "\n",
       "                                            nl_queries   irrelevant_tables  \\\n",
       "163  ['Give me a group line chart showing the numbe...  ['trip', 'status']   \n",
       "\n",
       "                                          query_meta  \\\n",
       "163  [{'channel_specified': ['x', 'y', 'classify']}]   \n",
       "\n",
       "                                              img_bs64  \n",
       "163  iVBORw0KGgoAAAANSUhEUgAAAmIAAAJCCAYAAABj+qvQAA...  "
      ]
     },
     "execution_count": 89,
     "metadata": {},
     "output_type": "execute_result"
    }
   ],
   "source": [
    "# mat = pd.read_csv(r'C:\\Users\\LeeSeungYong\\visplan\\evaluation\\dataset\\matplotagent_data.csv')\n",
    "# sample = mat.sample(1)\n",
    "# print(sample['simple_instruction'].values[0])\n",
    "# print('#'* 40)\n",
    "# print(sample['expert_instruction'].values[0])\n",
    "\n",
    "\n",
    "mat = pd.read_csv(r'C:\\Users\\LeeSeungYong\\visplan\\evaluation\\dataset\\viseval_data.csv')\n",
    "sample = mat.sample(1)\n",
    "# print(sample['simple_instruction'].values[0])\n",
    "# print('#'* 40)\n",
    "# print(sample['expert_instruction'].values[0])\n",
    "print(sample['nl_queries'].values)\n",
    "sample"
   ]
  },
  {
   "cell_type": "code",
   "execution_count": 90,
   "metadata": {},
   "outputs": [
    {
     "name": "stdout",
     "output_type": "stream",
     "text": [
      "['Show all the faculty ranks and the number of students advised by each rank with a pie chart.', 'Return a pie on how many students are advised by each rank of faculty? List the rank and the number of students.', 'A pie chart about how many students are advised by each rank of faculty? List the rank and the number of students.', 'How many students are advised by each rank of faculty? List the rank and the number of students with a pie chart.']\n"
     ]
    }
   ],
   "source": [
    "print(mat['nl_queries'][0])"
   ]
  },
  {
   "cell_type": "code",
   "execution_count": 91,
   "metadata": {},
   "outputs": [
    {
     "data": {
      "text/plain": [
       "2524"
      ]
     },
     "execution_count": 91,
     "metadata": {},
     "output_type": "execute_result"
    }
   ],
   "source": [
    "import ast\n",
    "\n",
    "len_queries = mat['nl_queries'].apply(lambda x : len(ast.literal_eval(x)))\n",
    "len_queries\n",
    "sum(len_queries)"
   ]
  },
  {
   "cell_type": "code",
   "execution_count": 92,
   "metadata": {},
   "outputs": [
    {
     "data": {
      "image/png": "[encoded data removed]",
      "text/plain": [
       "<Figure size 200x200 with 1 Axes>"
      ]
     },
     "metadata": {},
     "output_type": "display_data"
    }
   ],
   "source": [
    "import matplotlib.pyplot as plt\n",
    "\n",
    "def code_to_image(code):\n",
    "\n",
    "    exec_globals = {\"plt\": plt, \"io\": io}\n",
    "    exec_locals = {}\n",
    "\n",
    "    try:\n",
    "        exec(code, exec_globals, exec_locals)\n",
    "        \n",
    "        img_buffer = io.BytesIO()\n",
    "        plt.savefig(img_buffer, format='png') \n",
    "        plt.close()         \n",
    "\n",
    "        img_buffer.seek(0)\n",
    "        img_base64 = base64.b64encode(img_buffer.read()).decode('utf-8')\n",
    "        \n",
    "        return img_base64\n",
    "    except Exception as e:\n",
    "        return str(e)\n",
    "    \n",
    "test2 = '''\n",
    "import matplotlib.pyplot as plt\n",
    "\n",
    "categories = ['A', 'B', 'C', 'D']\n",
    "values = [10, 20, 15, 25]\n",
    "\n",
    "plt.figure(figsize = (2,2))\n",
    "plt.bar(categories, values, color=['blue', 'green', 'red', 'purple'])\n",
    "\n",
    "plt.title('Sample Bar Chart')\n",
    "plt.xlabel('Category')\n",
    "plt.ylabel('Value')\n",
    "\n",
    "plt.show()\n",
    "'''\n",
    "\n",
    "base64_code = code_to_image(test2)"
   ]
  },
  {
   "cell_type": "code",
   "execution_count": 93,
   "metadata": {},
   "outputs": [],
   "source": [
    "# base64_code"
   ]
  },
  {
   "cell_type": "code",
   "execution_count": 94,
   "metadata": {},
   "outputs": [
    {
     "name": "stdout",
     "output_type": "stream",
     "text": [
      "Generate a series of boxplots using matplotlib and numpy libraries. The boxplots should include a basic plot, a notched plot, a plot with changed outlier point symbols, a plot without outlier points, a horizontal boxplot, and a plot with changed whisker length. The data for these plots should be randomly generated and reproducible. Each subplot should have one boxplot. The plots should be arranged in two rows and three columns.\n",
      "1. Import the required libraries: matplotlib.pyplot and numpy.\n",
      "2. Import the Polygon module from matplotlib.patches.\n",
      "3. Set the random seed for reproducibility using np.random.seed(19920215).\n",
      "4. Generate new fake data for the plot by creating arrays: spread, center, flier_high, flier_low, and data.\n",
      "   - Generate the spread array by multiplying np.random.rand(50) by 100.\n",
      "   - Generate the center array by multiplying np.ones(25) by 60.\n",
      "   - Generate the flier_high array by adding np.random.rand(10) multiplied by 100 to 150.\n",
      "   - Generate the flier_low array by multiplying np.random.rand(10) by -100.\n",
      "   - Concatenate the spread, center, flier_high, and flier_low arrays into the data array.\n",
      "5. Create a figure and subplots.\n",
      "6. Plot the basic boxplot on the first subplot and set the title to 'basic plot'.\n",
      "7. Plot a notched boxplot on the second subplot and set the title to 'notched plot'.\n",
      "8. Change the outlier point symbols on the third subplot and set the title to 'change outlier point symbols'.\n",
      "9. Create a boxplot without showing the outlier points on the fourth subplot and set the title to \"don't show outlier points\".\n",
      "10. Create a horizontal boxplot on the fifth subplot and set the title to 'horizontal boxes'.\n",
      "11. Change the whisker length on the sixth subplot and set the title to 'change whisker length'.\n",
      "12. Adjust the spacing and layout of the subplots using.\n",
      "13. Display the plot.\n"
     ]
    },
    {
     "data": {
      "text/plain": [
       "(None, None)"
      ]
     },
     "execution_count": 94,
     "metadata": {},
     "output_type": "execute_result"
    }
   ],
   "source": [
    "tmp = {\n",
    "    \"simple_instruction\": \"Generate a series of boxplots using matplotlib and numpy libraries. The boxplots should include a basic plot, a notched plot, a plot with changed outlier point symbols, a plot without outlier points, a horizontal boxplot, and a plot with changed whisker length. The data for these plots should be randomly generated and reproducible. Each subplot should have one boxplot. The plots should be arranged in two rows and three columns.\",\n",
    "    \"expert_instruction\": \"1. Import the required libraries: matplotlib.pyplot and numpy.\\n2. Import the Polygon module from matplotlib.patches.\\n3. Set the random seed for reproducibility using np.random.seed(19920215).\\n4. Generate new fake data for the plot by creating arrays: spread, center, flier_high, flier_low, and data.\\n   - Generate the spread array by multiplying np.random.rand(50) by 100.\\n   - Generate the center array by multiplying np.ones(25) by 60.\\n   - Generate the flier_high array by adding np.random.rand(10) multiplied by 100 to 150.\\n   - Generate the flier_low array by multiplying np.random.rand(10) by -100.\\n   - Concatenate the spread, center, flier_high, and flier_low arrays into the data array.\\n5. Create a figure and subplots.\\n6. Plot the basic boxplot on the first subplot and set the title to 'basic plot'.\\n7. Plot a notched boxplot on the second subplot and set the title to 'notched plot'.\\n8. Change the outlier point symbols on the third subplot and set the title to 'change outlier point symbols'.\\n9. Create a boxplot without showing the outlier points on the fourth subplot and set the title to \\\"don't show outlier points\\\".\\n10. Create a horizontal boxplot on the fifth subplot and set the title to 'horizontal boxes'.\\n11. Change the whisker length on the sixth subplot and set the title to 'change whisker length'.\\n12. Adjust the spacing and layout of the subplots using.\\n13. Display the plot.\",\n",
    "    \"id\": 1\n",
    "}\n",
    "\n",
    "print(tmp['simple_instruction']),\\\n",
    "print(tmp['expert_instruction'])"
   ]
  },
  {
   "cell_type": "code",
   "execution_count": 95,
   "metadata": {},
   "outputs": [],
   "source": [
    "def image_to_base64(image_path):\n",
    "    with open(image_path, \"rb\") as img_file:\n",
    "        return base64.b64encode(img_file.read()).decode('utf-8')\n",
    "    \n",
    "def base64_to_image(base64_string, output_path):\n",
    "    with open(output_path, \"wb\") as img_file:\n",
    "        img_file.write(base64.b64decode(base64_string))"
   ]
  },
  {
   "cell_type": "code",
   "execution_count": 96,
   "metadata": {},
   "outputs": [
    {
     "data": {
      "text/plain": [
       "id                                                                    1\n",
       "simple_instruction    Generate a series of boxplots using matplotlib...\n",
       "expert_instruction    1. Import the required libraries: matplotlib.p...\n",
       "img_bs64              iVBORw0KGgoAAAANSUhEUgAAAoAAAAHgCAIAAAC6s0uzAA...\n",
       "Name: 0, dtype: object"
      ]
     },
     "execution_count": 96,
     "metadata": {},
     "output_type": "execute_result"
    }
   ],
   "source": [
    "matplotagent_bench = pd.read_csv(r'..\\dataset\\matplotagent_data.csv')\n",
    "matplotagent_bench.iloc[0,:]\n"
   ]
  },
  {
   "cell_type": "code",
   "execution_count": 97,
   "metadata": {},
   "outputs": [],
   "source": [
    "# from IPython.display import Image\n",
    "\n",
    "# # base64_code = \"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\"\n",
    "# base64_to_image(base64_code, '../test.png')\n",
    "# Image('../test.png')"
   ]
  },
  {
   "cell_type": "code",
   "execution_count": 98,
   "metadata": {},
   "outputs": [
    {
     "data": {
      "text/html": [
       "<div>\n",
       "<style scoped>\n",
       "    .dataframe tbody tr th:only-of-type {\n",
       "        vertical-align: middle;\n",
       "    }\n",
       "\n",
       "    .dataframe tbody tr th {\n",
       "        vertical-align: top;\n",
       "    }\n",
       "\n",
       "    .dataframe thead th {\n",
       "        text-align: right;\n",
       "    }\n",
       "</style>\n",
       "<table border=\"1\" class=\"dataframe\">\n",
       "  <thead>\n",
       "    <tr style=\"text-align: right;\">\n",
       "      <th></th>\n",
       "      <th>id</th>\n",
       "      <th>vis_query_vis_part</th>\n",
       "      <th>vis_query_data_part</th>\n",
       "      <th>vis_query_VQL</th>\n",
       "      <th>chart</th>\n",
       "      <th>hardness</th>\n",
       "      <th>db_id</th>\n",
       "      <th>vis_obj_chart</th>\n",
       "      <th>vis_obj_x_name</th>\n",
       "      <th>vis_obj_y_name</th>\n",
       "      <th>vis_obj_x_data</th>\n",
       "      <th>vis_obj_y_data</th>\n",
       "      <th>vis_obj_classify</th>\n",
       "      <th>vis_obj_describe</th>\n",
       "      <th>vis_obj_sort</th>\n",
       "      <th>nl_queries</th>\n",
       "      <th>irrelevant_tables</th>\n",
       "      <th>query_meta</th>\n",
       "      <th>img_bs64</th>\n",
       "    </tr>\n",
       "  </thead>\n",
       "  <tbody>\n",
       "    <tr>\n",
       "      <th>1148</th>\n",
       "      <td>4034</td>\n",
       "      <td>Visualize LINE</td>\n",
       "      <td>{'sql_part': \"SELECT year, max(salary), team_i...</td>\n",
       "      <td>Visualize LINE SELECT year, max(salary), team_...</td>\n",
       "      <td>Grouping Line</td>\n",
       "      <td>Medium</td>\n",
       "      <td>baseball_1</td>\n",
       "      <td>line</td>\n",
       "      <td>year</td>\n",
       "      <td>max(salary)</td>\n",
       "      <td>[[2000, 2001, 2002, 2003, 2004, 2005, 2006, 20...</td>\n",
       "      <td>[[13350000, 13350000, 13350000, 15000000, 1600...</td>\n",
       "      <td>['ARI', 'ATL', 'CHA']</td>\n",
       "      <td>NaN</td>\n",
       "      <td>NaN</td>\n",
       "      <td>['The maximum salary of players in teams ARI, ...</td>\n",
       "      <td>['all_star', 'pitching']</td>\n",
       "      <td>[{'channel_specified': ['x', 'y', 'classify']}]</td>\n",
       "      <td>NaN</td>\n",
       "    </tr>\n",
       "    <tr>\n",
       "      <th>1149</th>\n",
       "      <td>4035</td>\n",
       "      <td>Visualize LINE</td>\n",
       "      <td>{'sql_part': 'SELECT year, count(*), semester ...</td>\n",
       "      <td>Visualize LINE SELECT year, count(*), semester...</td>\n",
       "      <td>Grouping Line</td>\n",
       "      <td>Medium</td>\n",
       "      <td>college_2</td>\n",
       "      <td>line</td>\n",
       "      <td>year</td>\n",
       "      <td>semester</td>\n",
       "      <td>[[2002, 2003, 2004, 2005, 2006, 2007, 2008, 20...</td>\n",
       "      <td>[[4, 4, 1, 3, 6, 2, 0, 1, 2], [2, 2, 2, 2, 1, ...</td>\n",
       "      <td>['Fall', 'Spring']</td>\n",
       "      <td>NaN</td>\n",
       "      <td>NaN</td>\n",
       "      <td>['How many 4-credit courses are there in each ...</td>\n",
       "      <td>['advisor', 'prereq']</td>\n",
       "      <td>[{'channel_specified': ['x', 'y', 'classify']}]</td>\n",
       "      <td>NaN</td>\n",
       "    </tr>\n",
       "  </tbody>\n",
       "</table>\n",
       "</div>"
      ],
      "text/plain": [
       "        id vis_query_vis_part  \\\n",
       "1148  4034     Visualize LINE   \n",
       "1149  4035     Visualize LINE   \n",
       "\n",
       "                                    vis_query_data_part  \\\n",
       "1148  {'sql_part': \"SELECT year, max(salary), team_i...   \n",
       "1149  {'sql_part': 'SELECT year, count(*), semester ...   \n",
       "\n",
       "                                          vis_query_VQL          chart  \\\n",
       "1148  Visualize LINE SELECT year, max(salary), team_...  Grouping Line   \n",
       "1149  Visualize LINE SELECT year, count(*), semester...  Grouping Line   \n",
       "\n",
       "     hardness       db_id vis_obj_chart vis_obj_x_name vis_obj_y_name  \\\n",
       "1148   Medium  baseball_1          line           year    max(salary)   \n",
       "1149   Medium   college_2          line           year       semester   \n",
       "\n",
       "                                         vis_obj_x_data  \\\n",
       "1148  [[2000, 2001, 2002, 2003, 2004, 2005, 2006, 20...   \n",
       "1149  [[2002, 2003, 2004, 2005, 2006, 2007, 2008, 20...   \n",
       "\n",
       "                                         vis_obj_y_data  \\\n",
       "1148  [[13350000, 13350000, 13350000, 15000000, 1600...   \n",
       "1149  [[4, 4, 1, 3, 6, 2, 0, 1, 2], [2, 2, 2, 2, 1, ...   \n",
       "\n",
       "           vis_obj_classify vis_obj_describe vis_obj_sort  \\\n",
       "1148  ['ARI', 'ATL', 'CHA']              NaN          NaN   \n",
       "1149     ['Fall', 'Spring']              NaN          NaN   \n",
       "\n",
       "                                             nl_queries  \\\n",
       "1148  ['The maximum salary of players in teams ARI, ...   \n",
       "1149  ['How many 4-credit courses are there in each ...   \n",
       "\n",
       "             irrelevant_tables  \\\n",
       "1148  ['all_star', 'pitching']   \n",
       "1149     ['advisor', 'prereq']   \n",
       "\n",
       "                                           query_meta img_bs64  \n",
       "1148  [{'channel_specified': ['x', 'y', 'classify']}]      NaN  \n",
       "1149  [{'channel_specified': ['x', 'y', 'classify']}]      NaN  "
      ]
     },
     "execution_count": 98,
     "metadata": {},
     "output_type": "execute_result"
    }
   ],
   "source": [
    "viseval_bench = pd.read_csv(r'..\\dataset\\viseval_data.csv')\n",
    "viseval_bench.tail(2)"
   ]
  },
  {
   "cell_type": "code",
   "execution_count": 99,
   "metadata": {},
   "outputs": [],
   "source": [
    "id_list = [n for n in range(viseval_bench.shape[0])]\n",
    "test_sample_id = 1149\n",
    "viseval_bench['db_id']\n",
    "db = viseval_bench.loc[test_sample_id,'db_id']"
   ]
  },
  {
   "cell_type": "code",
   "execution_count": 111,
   "metadata": {},
   "outputs": [
    {
     "data": {
      "text/plain": [
       "str"
      ]
     },
     "execution_count": 111,
     "metadata": {},
     "output_type": "execute_result"
    }
   ],
   "source": [
    "tmp = viseval_bench[viseval_bench['irrelevant_tables'].apply(lambda x : len(ast.literal_eval(x))) == 0]\n",
    "type(tmp['irrelevant_tables'].sample(1).values[0])"
   ]
  },
  {
   "cell_type": "code",
   "execution_count": 101,
   "metadata": {},
   "outputs": [
    {
     "data": {
      "text/plain": [
       "irrelevant_tables\n",
       "2    820\n",
       "1    226\n",
       "0    104\n",
       "Name: count, dtype: int64"
      ]
     },
     "execution_count": 101,
     "metadata": {},
     "output_type": "execute_result"
    }
   ],
   "source": [
    "viseval_bench['irrelevant_tables'].apply(lambda x : len(ast.literal_eval(x))).value_counts()"
   ]
  },
  {
   "cell_type": "code",
   "execution_count": null,
   "metadata": {},
   "outputs": [],
   "source": []
  },
  {
   "cell_type": "code",
   "execution_count": 102,
   "metadata": {},
   "outputs": [
    {
     "data": {
      "text/plain": [
       "['evaluation\\\\dataset\\\\databases\\\\college_2\\\\advisor.csv',\n",
       " 'evaluation\\\\dataset\\\\databases\\\\college_2\\\\prereq.csv']"
      ]
     },
     "execution_count": 102,
     "metadata": {},
     "output_type": "execute_result"
    }
   ],
   "source": [
    "# [f'evaluation\\dataset\\databases\\{db}\\{table}.csv' for table in ast.literal_eval(viseval_bench.loc[test_sample_id,'irrelevant_tables'])]\n",
    "[f'evaluation\\\\dataset\\\\databases\\\\{db}\\\\{table}.csv' for table in ast.literal_eval(viseval_bench.loc[test_sample_id,'irrelevant_tables'])]"
   ]
  },
  {
   "cell_type": "code",
   "execution_count": 103,
   "metadata": {},
   "outputs": [
    {
     "data": {
      "text/plain": [
       "['evaluation\\\\dataset\\\\databases\\\\activity_1\\\\Faculty_Participates_in.csv',\n",
       " 'evaluation\\\\dataset\\\\databases\\\\activity_1\\\\Participates_in.csv']"
      ]
     },
     "execution_count": 103,
     "metadata": {},
     "output_type": "execute_result"
    }
   ],
   "source": [
    "test_sample_id = 0\n",
    "database = viseval_bench.loc[test_sample_id,'db_id']\n",
    "tables = viseval_bench.loc[test_sample_id,'irrelevant_tables']\n",
    "data_path = [f'evaluation\\\\dataset\\\\databases\\\\{database}\\\\{table}.csv' for table in ast.literal_eval(tables)]\n",
    "data_path"
   ]
  },
  {
   "cell_type": "code",
   "execution_count": 104,
   "metadata": {},
   "outputs": [
    {
     "data": {
      "text/plain": [
       "0       [Show all the faculty ranks and the number of ...\n",
       "1       [Show all the faculty ranks and the number of ...\n",
       "2       [A pie chart showing the number of faculty mem...\n",
       "3       [Show the number of faculty members for each r...\n",
       "4       [How many faculty members do we have for each ...\n",
       "                              ...                        \n",
       "1145    [Show the number of wines with score over 95 i...\n",
       "1146    [A scatter plot illustrating the prices and sc...\n",
       "1147    [From 1973 to 1979, show the maximum accelerat...\n",
       "1148    [The maximum salary of players in teams ARI, A...\n",
       "1149    [How many 4-credit courses are there in each s...\n",
       "Name: nl_queries, Length: 1150, dtype: object"
      ]
     },
     "execution_count": 104,
     "metadata": {},
     "output_type": "execute_result"
    }
   ],
   "source": [
    "viseval_bench['nl_queries'].apply(lambda x : ast.literal_eval(x))"
   ]
  },
  {
   "cell_type": "code",
   "execution_count": null,
   "metadata": {},
   "outputs": [],
   "source": []
  }
 ],
 "metadata": {
  "kernelspec": {
   "display_name": "visplan",
   "language": "python",
   "name": "python3"
  },
  "language_info": {
   "codemirror_mode": {
    "name": "ipython",
    "version": 3
   },
   "file_extension": ".py",
   "mimetype": "text/x-python",
   "name": "python",
   "nbconvert_exporter": "python",
   "pygments_lexer": "ipython3",
   "version": "3.12.4"
  }
 },
 "nbformat": 4,
 "nbformat_minor": 2
}
